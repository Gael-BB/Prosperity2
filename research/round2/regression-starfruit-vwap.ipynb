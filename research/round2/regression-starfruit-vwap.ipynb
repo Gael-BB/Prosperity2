{
 "cells": [
  {
   "cell_type": "code",
   "execution_count": 100,
   "metadata": {},
   "outputs": [],
   "source": [
    "import pandas as pd\n",
    "import numpy as np"
   ]
  },
  {
   "cell_type": "code",
   "execution_count": 101,
   "metadata": {},
   "outputs": [],
   "source": [
    "data1 = pd.read_csv('../prices/prices_round_1_day_-2.csv', header = 0, sep=\";\")\n",
    "data2 = pd.read_csv('../prices/prices_round_1_day_-1.csv', header = 0, sep=\";\")\n",
    "data3 = pd.read_csv('../prices/prices_round_1_day_0.csv', header = 0, sep=\";\")"
   ]
  },
  {
   "cell_type": "code",
   "execution_count": 102,
   "metadata": {},
   "outputs": [
    {
     "name": "stdout",
     "output_type": "stream",
     "text": [
      "1    260000.0\n",
      "3    155068.0\n",
      "4    309970.0\n",
      "7    269973.0\n",
      "9    199940.0\n",
      "dtype: float64\n",
      "[[4999.5        4998.44642857 4998.51666667 4999.53191489]\n",
      " [4999.5        4999.5        5000.59375    5000.5       ]\n",
      " [5000.5        5001.5        5000.5        5001.5       ]\n",
      " ...\n",
      " [5052.5        5052.37704918 5053.5        5053.70588235]\n",
      " [5053.5        5052.51724138 5052.36842105 5051.54166667]\n",
      " [5049.57142857 5051.34482759 5051.5        5052.5       ]]\n",
      "[5000.5        5000.5        4999.5        ... 5053.5        5049.57142857\n",
      " 5050.26153846]\n",
      "(7499,)\n",
      "(7499, 4)\n"
     ]
    }
   ],
   "source": [
    "#print(data1.head())\n",
    "#print(data3.tail())\n",
    "\n",
    "#creating midprice differences matrix\n",
    "\n",
    "data = pd.concat([data1,data2, data3])\n",
    "data = data[data[\"product\"] == \"STARFRUIT\"]\n",
    "\n",
    "\n",
    "\n",
    "\n",
    "data = data.fillna(0)\n",
    "\n",
    "#vwap = (data[\"bid_price_1\"]*data[\"bid_volume_1\"] + data[\"bid_price_2\"]*data[\"bid_volume_2\"] + data[\"bid_price_3\"]*data[\"bid_volume_3\"] + data[\"ask_price_1\"]*data[\"ask_volume_1\"] + data[\"ask_price_2\"]*data[\"ask_volume_2\"] + data[\"ask_price_3\"]*data[\"ask_volume_3\"])/(data[\"ask_volume_3\"]+data[\"ask_volume_2\"]+data[\"ask_volume_1\"]+data[\"bid_volume_3\"]+data[\"bid_volume_3\"]+data[\"bid_volume_2\"]+data[\"bid_volume_1\"])\n",
    "\n",
    "sum = 0\n",
    "volsum = 0 \n",
    "for i in range(1,3):\n",
    "   \n",
    "    sum += data[f'bid_price_{i}'] * data[f'bid_volume_{i}'] + data[f'ask_price_{i}'] * data[f'ask_volume_{i}']\n",
    "    volsum += data[f'bid_volume_{i}'] + data[f'ask_volume_{i}']\n",
    "\n",
    "print(sum[:5])\n",
    "\n",
    "vwap = sum/volsum\n",
    "vwap = vwap.to_numpy()\n",
    "\n",
    "dmatrix = vwap.reshape(-1,4)\n",
    "matrix = vwap[1:] #remove first row as we don't want to predict it\n",
    "X = dmatrix[:-1]\n",
    "print(X[25:])\n",
    "\n",
    "y = dmatrix[1:,0]\n",
    "print(y[5:])\n",
    "\n",
    "print(y.shape)\n",
    "print(X.shape)\n",
    "\n",
    "\n",
    "\n",
    "\n"
   ]
  },
  {
   "cell_type": "code",
   "execution_count": null,
   "metadata": {},
   "outputs": [],
   "source": []
  },
  {
   "cell_type": "code",
   "execution_count": 103,
   "metadata": {},
   "outputs": [
    {
     "name": "stdout",
     "output_type": "stream",
     "text": [
      "Coefficients: [0.13583725 0.17354207 0.28468989 0.40577529]\n",
      "Intercept: 0.7824406885265489\n",
      "Mean squared error: 1.138027187941819\n",
      "Mean Y squared change: 25376326.29911834\n"
     ]
    }
   ],
   "source": [
    "from sklearn.linear_model import LinearRegression\n",
    "from sklearn.metrics import mean_squared_error\n",
    "\n",
    "lr = LinearRegression()\n",
    "lr.fit(X, y)\n",
    "\n",
    "# Coefficients\n",
    "print(\"Coefficients:\", lr.coef_)\n",
    "print(\"Intercept:\", lr.intercept_)\n",
    "\n",
    "predictions = lr.predict(X)\n",
    "mse = mean_squared_error(y, predictions)\n",
    "print(\"Mean squared error:\", mse)\n",
    "print(\"Mean Y squared change:\", np.mean(y ** 2))\n"
   ]
  }
 ],
 "metadata": {
  "kernelspec": {
   "display_name": "Python 3",
   "language": "python",
   "name": "python3"
  },
  "language_info": {
   "codemirror_mode": {
    "name": "ipython",
    "version": 3
   },
   "file_extension": ".py",
   "mimetype": "text/x-python",
   "name": "python",
   "nbconvert_exporter": "python",
   "pygments_lexer": "ipython3",
   "version": "3.10.8"
  }
 },
 "nbformat": 4,
 "nbformat_minor": 2
}
