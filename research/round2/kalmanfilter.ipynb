{
 "cells": [
  {
   "cell_type": "code",
   "execution_count": 138,
   "metadata": {},
   "outputs": [],
   "source": [
    "import numpy as np\n",
    "import pandas as pd\n",
    "import matplotlib.pyplot as plt"
   ]
  },
  {
   "cell_type": "code",
   "execution_count": 139,
   "metadata": {},
   "outputs": [
    {
     "data": {
      "text/html": [
       "<div>\n",
       "<style scoped>\n",
       "    .dataframe tbody tr th:only-of-type {\n",
       "        vertical-align: middle;\n",
       "    }\n",
       "\n",
       "    .dataframe tbody tr th {\n",
       "        vertical-align: top;\n",
       "    }\n",
       "\n",
       "    .dataframe thead th {\n",
       "        text-align: right;\n",
       "    }\n",
       "</style>\n",
       "<table border=\"1\" class=\"dataframe\">\n",
       "  <thead>\n",
       "    <tr style=\"text-align: right;\">\n",
       "      <th></th>\n",
       "      <th>timestamp</th>\n",
       "      <th>ORCHIDS</th>\n",
       "      <th>TRANSPORT_FEES</th>\n",
       "      <th>EXPORT_TARIFF</th>\n",
       "      <th>IMPORT_TARIFF</th>\n",
       "      <th>SUNLIGHT</th>\n",
       "      <th>HUMIDITY</th>\n",
       "      <th>DAY</th>\n",
       "    </tr>\n",
       "  </thead>\n",
       "  <tbody>\n",
       "    <tr>\n",
       "      <th>0</th>\n",
       "      <td>0</td>\n",
       "      <td>1200.00</td>\n",
       "      <td>1.5</td>\n",
       "      <td>10.5</td>\n",
       "      <td>-2.0</td>\n",
       "      <td>2500.0000</td>\n",
       "      <td>79.00000</td>\n",
       "      <td>-1</td>\n",
       "    </tr>\n",
       "    <tr>\n",
       "      <th>1</th>\n",
       "      <td>100</td>\n",
       "      <td>1201.75</td>\n",
       "      <td>1.5</td>\n",
       "      <td>9.5</td>\n",
       "      <td>-2.0</td>\n",
       "      <td>2499.4197</td>\n",
       "      <td>79.00410</td>\n",
       "      <td>-1</td>\n",
       "    </tr>\n",
       "    <tr>\n",
       "      <th>2</th>\n",
       "      <td>200</td>\n",
       "      <td>1201.75</td>\n",
       "      <td>1.5</td>\n",
       "      <td>9.5</td>\n",
       "      <td>-2.0</td>\n",
       "      <td>2498.8457</td>\n",
       "      <td>79.00821</td>\n",
       "      <td>-1</td>\n",
       "    </tr>\n",
       "    <tr>\n",
       "      <th>3</th>\n",
       "      <td>300</td>\n",
       "      <td>1201.75</td>\n",
       "      <td>1.5</td>\n",
       "      <td>9.5</td>\n",
       "      <td>-2.0</td>\n",
       "      <td>2498.2780</td>\n",
       "      <td>79.01234</td>\n",
       "      <td>-1</td>\n",
       "    </tr>\n",
       "    <tr>\n",
       "      <th>4</th>\n",
       "      <td>400</td>\n",
       "      <td>1201.75</td>\n",
       "      <td>1.5</td>\n",
       "      <td>9.5</td>\n",
       "      <td>-2.0</td>\n",
       "      <td>2497.7166</td>\n",
       "      <td>79.01649</td>\n",
       "      <td>-1</td>\n",
       "    </tr>\n",
       "  </tbody>\n",
       "</table>\n",
       "</div>"
      ],
      "text/plain": [
       "   timestamp  ORCHIDS  TRANSPORT_FEES  EXPORT_TARIFF  IMPORT_TARIFF  \\\n",
       "0          0  1200.00             1.5           10.5           -2.0   \n",
       "1        100  1201.75             1.5            9.5           -2.0   \n",
       "2        200  1201.75             1.5            9.5           -2.0   \n",
       "3        300  1201.75             1.5            9.5           -2.0   \n",
       "4        400  1201.75             1.5            9.5           -2.0   \n",
       "\n",
       "    SUNLIGHT  HUMIDITY  DAY  \n",
       "0  2500.0000  79.00000   -1  \n",
       "1  2499.4197  79.00410   -1  \n",
       "2  2498.8457  79.00821   -1  \n",
       "3  2498.2780  79.01234   -1  \n",
       "4  2497.7166  79.01649   -1  "
      ]
     },
     "execution_count": 139,
     "metadata": {},
     "output_type": "execute_result"
    }
   ],
   "source": [
    "data1 = pd.read_csv('../prices/prices_round_2_day_-1.csv', header = 0, sep=\";\")\n",
    "data2 = pd.read_csv('../prices/prices_round_2_day_0.csv', header = 0, sep=\";\")\n",
    "data3 = pd.read_csv('../prices/prices_round_2_day_1.csv', header = 0, sep=\";\")\n",
    "\n",
    "#Join rows of data1, data2 and data3\n",
    "#data = pd.concat([data1, data2, data3], ignore_index=True)\n",
    "\n",
    "#data = pd.concat([data1,data2], ignore_index=True)\n",
    "data = data1\n",
    "data.head()"
   ]
  },
  {
   "cell_type": "code",
   "execution_count": 140,
   "metadata": {},
   "outputs": [
    {
     "name": "stdout",
     "output_type": "stream",
     "text": [
      "[[9.56912851e-01 1.56375213e-02 1.22659416e-04]\n",
      " [1.56375213e-02 7.82154498e-01 5.40530006e-03]\n",
      " [1.22659416e-04 5.40530006e-03 5.15517945e-05]]\n"
     ]
    }
   ],
   "source": [
    "#calculating covariance matrix Q\n",
    "price = data.loc[:,\"ORCHIDS\"]\n",
    "sunlight = data.loc[:, \"SUNLIGHT\"]\n",
    "humidity = data.loc[:,\"HUMIDITY\"]\n",
    "\n",
    "pricediff = np.diff(price)\n",
    "sunlightdiff = np.diff(sunlight)\n",
    "humiditydiff = np.diff(humidity)\n",
    "\n",
    "differences = np.vstack((pricediff,sunlightdiff,humiditydiff))\n",
    "Q = np.cov(differences)\n",
    "\n",
    "print(Q)"
   ]
  },
  {
   "cell_type": "code",
   "execution_count": 141,
   "metadata": {},
   "outputs": [
    {
     "name": "stdout",
     "output_type": "stream",
     "text": [
      "(10000, 3) (10000, 3)\n",
      "[[ 9.97675010e-01  4.23560243e-05  4.78619978e-03]\n",
      " [-1.70494280e-02  9.99688565e-01  8.94087969e-02]\n",
      " [-7.75608778e-05 -5.51482238e-06  1.00056837e+00]]\n"
     ]
    }
   ],
   "source": [
    "#finding transition matrix A\n",
    "from sklearn.linear_model import LinearRegression\n",
    "\n",
    "X = np.vstack([price[:-1], sunlight[:-1], humidity[:-1]])\n",
    "y = np.vstack([price[1:], sunlight[1:], humidity[1:]])\n",
    "X = np.transpose(X)\n",
    "y = np.transpose(y)\n",
    "print(X.shape, y.shape)\n",
    "\n",
    "model = LinearRegression().fit(X,y)\n",
    "\n",
    "#transition matrix\n",
    "A = model.coef_\n",
    "print(A)\n",
    "\n"
   ]
  },
  {
   "cell_type": "code",
   "execution_count": 142,
   "metadata": {},
   "outputs": [
    {
     "name": "stdout",
     "output_type": "stream",
     "text": [
      "(10001, 1) (10001, 1) (10001, 1)\n",
      "(10001, 3)\n",
      "predicted price from data1:  1227.9772739096704\n",
      "actual price:  985.75\n"
     ]
    }
   ],
   "source": [
    "from pykalman import KalmanFilter\n",
    "\n",
    "initial_price = data.loc[0, \"ORCHIDS\"]\n",
    "initial_sunlight = data.loc[0, \"SUNLIGHT\"]\n",
    "initial_humidity = data.loc[0, \"HUMIDITY\"]\n",
    "\n",
    "price = data.loc[:,\"ORCHIDS\"]\n",
    "sunlight = data.loc[:, \"SUNLIGHT\"]\n",
    "humidity = data.loc[:,\"HUMIDITY\"]\n",
    "\n",
    "price = price.to_numpy()\n",
    "sunlight = sunlight.to_numpy()\n",
    "humidity = humidity.to_numpy()\n",
    "\n",
    "price = price.reshape(-1,1)\n",
    "sunlight = sunlight.reshape(-1,1)\n",
    "humidity = humidity.reshape(-1,1)\n",
    "\n",
    "print(price.shape, sunlight.shape, humidity.shape)\n",
    "print(np.hstack([price, sunlight, humidity]).shape)\n",
    "\n",
    "initial_state = np.array([initial_price, initial_sunlight, initial_humidity])\n",
    "\n",
    "initial_covariance = Q\n",
    "transition_matrix = A\n",
    "observation_matrix = np.eye(3)\n",
    "process_noise = np.diag([0.1,0.1,0.1])\n",
    "observation_noise = np.diag([0.001,0.001,0.001])\n",
    "\n",
    "kf = KalmanFilter(initial_state_mean = initial_state,\n",
    "                  initial_state_covariance = initial_covariance,\n",
    "                  transition_matrices = transition_matrix,\n",
    "                  observation_matrices = observation_matrix,\n",
    "                  observation_covariance = observation_noise,\n",
    "                  transition_covariance = process_noise)\n",
    "\n",
    "state_means, state_covariances = kf.filter(np.hstack([price, sunlight, humidity])) #this shape is wrong\n",
    "\n",
    "#next price\n",
    "last_state_mean = state_means[-1]\n",
    "last_state_covariance = state_covariances[-1]\n",
    "\n",
    "next_state_mean, next_state_covariance = kf.filter_update(\n",
    "last_state_mean, last_state_covariance, observation= np.array([data.loc[data.index[-1],\"ORCHIDS\"], data.loc[data.index[-1], \"SUNLIGHT\"], data.loc[data.index[-1],\"HUMIDITY\"]])\n",
    ")\n",
    "predicted_price = next_state_mean[0]\n",
    "\n",
    "print(\"predicted price from data1: \", predicted_price)\n",
    "print(\"actual price: \", data2.loc[data.index[-1], \"ORCHIDS\"])\n"
   ]
  },
  {
   "cell_type": "code",
   "execution_count": null,
   "metadata": {},
   "outputs": [],
   "source": []
  }
 ],
 "metadata": {
  "kernelspec": {
   "display_name": "Python 3",
   "language": "python",
   "name": "python3"
  },
  "language_info": {
   "codemirror_mode": {
    "name": "ipython",
    "version": 3
   },
   "file_extension": ".py",
   "mimetype": "text/x-python",
   "name": "python",
   "nbconvert_exporter": "python",
   "pygments_lexer": "ipython3",
   "version": "3.10.8"
  }
 },
 "nbformat": 4,
 "nbformat_minor": 2
}
