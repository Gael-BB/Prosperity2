{
 "cells": [
  {
   "cell_type": "code",
   "execution_count": 132,
   "metadata": {},
   "outputs": [],
   "source": [
    "import numpy as np\n",
    "import pandas as pd\n",
    "import matplotlib.pyplot as plt\n",
    "from math import erf"
   ]
  },
  {
   "cell_type": "code",
   "execution_count": 133,
   "metadata": {},
   "outputs": [
    {
     "data": {
      "text/html": [
       "<div>\n",
       "<style scoped>\n",
       "    .dataframe tbody tr th:only-of-type {\n",
       "        vertical-align: middle;\n",
       "    }\n",
       "\n",
       "    .dataframe tbody tr th {\n",
       "        vertical-align: top;\n",
       "    }\n",
       "\n",
       "    .dataframe thead th {\n",
       "        text-align: right;\n",
       "    }\n",
       "</style>\n",
       "<table border=\"1\" class=\"dataframe\">\n",
       "  <thead>\n",
       "    <tr style=\"text-align: right;\">\n",
       "      <th></th>\n",
       "      <th>day</th>\n",
       "      <th>timestamp</th>\n",
       "      <th>product</th>\n",
       "      <th>bid_price_1</th>\n",
       "      <th>bid_volume_1</th>\n",
       "      <th>bid_price_2</th>\n",
       "      <th>bid_volume_2</th>\n",
       "      <th>bid_price_3</th>\n",
       "      <th>bid_volume_3</th>\n",
       "      <th>ask_price_1</th>\n",
       "      <th>ask_volume_1</th>\n",
       "      <th>ask_price_2</th>\n",
       "      <th>ask_volume_2</th>\n",
       "      <th>ask_price_3</th>\n",
       "      <th>ask_volume_3</th>\n",
       "      <th>mid_price</th>\n",
       "      <th>profit_and_loss</th>\n",
       "    </tr>\n",
       "  </thead>\n",
       "  <tbody>\n",
       "    <tr>\n",
       "      <th>0</th>\n",
       "      <td>1</td>\n",
       "      <td>0</td>\n",
       "      <td>COCONUT</td>\n",
       "      <td>9999.0</td>\n",
       "      <td>200.0</td>\n",
       "      <td>NaN</td>\n",
       "      <td>NaN</td>\n",
       "      <td>NaN</td>\n",
       "      <td>NaN</td>\n",
       "      <td>10001</td>\n",
       "      <td>200</td>\n",
       "      <td>NaN</td>\n",
       "      <td>NaN</td>\n",
       "      <td>NaN</td>\n",
       "      <td>NaN</td>\n",
       "      <td>10000.0</td>\n",
       "      <td>0.0</td>\n",
       "    </tr>\n",
       "    <tr>\n",
       "      <th>1</th>\n",
       "      <td>1</td>\n",
       "      <td>0</td>\n",
       "      <td>COCONUT_COUPON</td>\n",
       "      <td>637.0</td>\n",
       "      <td>39.0</td>\n",
       "      <td>NaN</td>\n",
       "      <td>NaN</td>\n",
       "      <td>NaN</td>\n",
       "      <td>NaN</td>\n",
       "      <td>638</td>\n",
       "      <td>39</td>\n",
       "      <td>NaN</td>\n",
       "      <td>NaN</td>\n",
       "      <td>NaN</td>\n",
       "      <td>NaN</td>\n",
       "      <td>637.5</td>\n",
       "      <td>0.0</td>\n",
       "    </tr>\n",
       "    <tr>\n",
       "      <th>2</th>\n",
       "      <td>1</td>\n",
       "      <td>100</td>\n",
       "      <td>COCONUT</td>\n",
       "      <td>9999.0</td>\n",
       "      <td>104.0</td>\n",
       "      <td>9998.0</td>\n",
       "      <td>44.0</td>\n",
       "      <td>NaN</td>\n",
       "      <td>NaN</td>\n",
       "      <td>10000</td>\n",
       "      <td>104</td>\n",
       "      <td>10001.0</td>\n",
       "      <td>44.0</td>\n",
       "      <td>NaN</td>\n",
       "      <td>NaN</td>\n",
       "      <td>9999.5</td>\n",
       "      <td>0.0</td>\n",
       "    </tr>\n",
       "    <tr>\n",
       "      <th>3</th>\n",
       "      <td>1</td>\n",
       "      <td>100</td>\n",
       "      <td>COCONUT_COUPON</td>\n",
       "      <td>637.0</td>\n",
       "      <td>33.0</td>\n",
       "      <td>NaN</td>\n",
       "      <td>NaN</td>\n",
       "      <td>NaN</td>\n",
       "      <td>NaN</td>\n",
       "      <td>638</td>\n",
       "      <td>33</td>\n",
       "      <td>NaN</td>\n",
       "      <td>NaN</td>\n",
       "      <td>NaN</td>\n",
       "      <td>NaN</td>\n",
       "      <td>637.5</td>\n",
       "      <td>0.0</td>\n",
       "    </tr>\n",
       "    <tr>\n",
       "      <th>4</th>\n",
       "      <td>1</td>\n",
       "      <td>200</td>\n",
       "      <td>COCONUT</td>\n",
       "      <td>9998.0</td>\n",
       "      <td>133.0</td>\n",
       "      <td>9997.0</td>\n",
       "      <td>62.0</td>\n",
       "      <td>NaN</td>\n",
       "      <td>NaN</td>\n",
       "      <td>9999</td>\n",
       "      <td>133</td>\n",
       "      <td>10000.0</td>\n",
       "      <td>62.0</td>\n",
       "      <td>NaN</td>\n",
       "      <td>NaN</td>\n",
       "      <td>9998.5</td>\n",
       "      <td>0.0</td>\n",
       "    </tr>\n",
       "  </tbody>\n",
       "</table>\n",
       "</div>"
      ],
      "text/plain": [
       "   day  timestamp         product  bid_price_1  bid_volume_1  bid_price_2  \\\n",
       "0    1          0         COCONUT       9999.0         200.0          NaN   \n",
       "1    1          0  COCONUT_COUPON        637.0          39.0          NaN   \n",
       "2    1        100         COCONUT       9999.0         104.0       9998.0   \n",
       "3    1        100  COCONUT_COUPON        637.0          33.0          NaN   \n",
       "4    1        200         COCONUT       9998.0         133.0       9997.0   \n",
       "\n",
       "   bid_volume_2  bid_price_3  bid_volume_3  ask_price_1  ask_volume_1  \\\n",
       "0           NaN          NaN           NaN        10001           200   \n",
       "1           NaN          NaN           NaN          638            39   \n",
       "2          44.0          NaN           NaN        10000           104   \n",
       "3           NaN          NaN           NaN          638            33   \n",
       "4          62.0          NaN           NaN         9999           133   \n",
       "\n",
       "   ask_price_2  ask_volume_2  ask_price_3  ask_volume_3  mid_price  \\\n",
       "0          NaN           NaN          NaN           NaN    10000.0   \n",
       "1          NaN           NaN          NaN           NaN      637.5   \n",
       "2      10001.0          44.0          NaN           NaN     9999.5   \n",
       "3          NaN           NaN          NaN           NaN      637.5   \n",
       "4      10000.0          62.0          NaN           NaN     9998.5   \n",
       "\n",
       "   profit_and_loss  \n",
       "0              0.0  \n",
       "1              0.0  \n",
       "2              0.0  \n",
       "3              0.0  \n",
       "4              0.0  "
      ]
     },
     "execution_count": 133,
     "metadata": {},
     "output_type": "execute_result"
    }
   ],
   "source": [
    "data1 = pd.read_csv('../prices/prices_round_4_day_1.csv', header = 0, sep=\";\")\n",
    "data2 = pd.read_csv('../prices/prices_round_4_day_2.csv', header = 0, sep=\";\")\n",
    "data3 = pd.read_csv('../prices/prices_round_4_day_3.csv', header = 0, sep=\";\")\n",
    "\n",
    "# Join rows of data1, data2 and data3\n",
    "data = pd.concat([data1, data2, data3])\n",
    "data = data.reset_index(drop=True) # Reset indices\n",
    "data.head()"
   ]
  },
  {
   "cell_type": "code",
   "execution_count": 155,
   "metadata": {},
   "outputs": [
    {
     "name": "stdout",
     "output_type": "stream",
     "text": [
      "Mean bid-ask spread: 1.2808260275342511\n"
     ]
    }
   ],
   "source": [
    "bid_ask_spread = data['ask_price_1'] - data['bid_price_1']\n",
    "print(f\"Mean bid-ask spread: {bid_ask_spread.mean()}\")"
   ]
  },
  {
   "cell_type": "code",
   "execution_count": 134,
   "metadata": {},
   "outputs": [
    {
     "name": "stdout",
     "output_type": "stream",
     "text": [
      "Length of coupon: 30000, std: 88.75266514702373, std adjusted for daily: 0.8875266514702373\n",
      "Length of log returns: 29999, std: 6.464420407779463e-05, std adjusted for daily: 0.006464420407779463\n"
     ]
    }
   ],
   "source": [
    "coconut_prices = data[data['product'] == 'COCONUT']['mid_price'].values\n",
    "coupon_prices = data[data['product'] == 'COCONUT_COUPON']['mid_price'].values\n",
    "print(f\"Length of coupon: {len(coconut_prices)}, std: {np.std(coconut_prices)}, std adjusted for daily: {np.std(coconut_prices) / np.sqrt(10000)}\")\n",
    "# Volatility of the log returns of coconut prices\n",
    "coconut_log_returns = np.log(coconut_prices[1:] / coconut_prices[:-1])\n",
    "coconut_log_returns = np.abs(coconut_log_returns)\n",
    "coconut_log_returns = coconut_log_returns[~np.isnan(coconut_log_returns)]\n",
    "coconut_log_returns = coconut_log_returns[~np.isinf(coconut_log_returns)]\n",
    "print(f\"Length of log returns: {len(coconut_log_returns)}, std: {np.std(coconut_log_returns)}, std adjusted for daily: {np.std(coconut_log_returns) * np.sqrt(10000)}\")"
   ]
  },
  {
   "cell_type": "code",
   "execution_count": 167,
   "metadata": {},
   "outputs": [],
   "source": [
    "def CDF_normal(x):\n",
    "        return 0.5 * (1 + erf(x / np.sqrt(2)))\n",
    "\n",
    "def calculate_black_scholes(S, sigma = 0.010119, r = 0, T = 250, K = 10000):\n",
    "        d1 = (np.log(S / K) + (r + 0.5 * sigma ** 2) * T) / (sigma * np.sqrt(T))\n",
    "        d2 = d1 - sigma * np.sqrt(T)\n",
    "        return S * CDF_normal(d1) - K * np.exp(-r * T) * CDF_normal(d2)"
   ]
  },
  {
   "cell_type": "code",
   "execution_count": 175,
   "metadata": {},
   "outputs": [
    {
     "name": "stdout",
     "output_type": "stream",
     "text": [
      "sigma: 0.01011932999993719\n"
     ]
    }
   ],
   "source": [
    "historic_mean = 637.63\n",
    "number = 0.01\n",
    "while True:\n",
    "    number +=  0.000000001\n",
    "    if calculate_black_scholes(1e4, number) > historic_mean:\n",
    "        print(f\"sigma: {number}\")\n",
    "        break"
   ]
  },
  {
   "cell_type": "code",
   "execution_count": 169,
   "metadata": {},
   "outputs": [
    {
     "data": {
      "text/plain": [
       "637.6300488739435"
      ]
     },
     "execution_count": 169,
     "metadata": {},
     "output_type": "execute_result"
    }
   ],
   "source": [
    "calculate_black_scholes(10000, number)"
   ]
  },
  {
   "cell_type": "code",
   "execution_count": 170,
   "metadata": {},
   "outputs": [],
   "source": [
    "black_scholes_prices = np.array([calculate_black_scholes(x) for x in coconut_prices])"
   ]
  },
  {
   "cell_type": "code",
   "execution_count": 174,
   "metadata": {},
   "outputs": [
    {
     "data": {
      "image/png": "[encoded data removed]",
      "text/plain": [
       "<Figure size 640x480 with 1 Axes>"
      ]
     },
     "metadata": {},
     "output_type": "display_data"
    },
    {
     "name": "stdout",
     "output_type": "stream",
     "text": [
      "MSE: 193.57980290811014\n"
     ]
    }
   ],
   "source": [
    "plt.plot(black_scholes_prices, label='Black-Scholes')\n",
    "plt.plot(coupon_prices, label='Actual Price')\n",
    "plt.legend()\n",
    "plt.show()\n",
    "mse = np.mean((black_scholes_prices - coupon_prices) ** 2)\n",
    "print(f\"MSE: {mse}\")\n"
   ]
  }
 ],
 "metadata": {
  "kernelspec": {
   "display_name": "Python 3",
   "language": "python",
   "name": "python3"
  },
  "language_info": {
   "codemirror_mode": {
    "name": "ipython",
    "version": 3
   },
   "file_extension": ".py",
   "mimetype": "text/x-python",
   "name": "python",
   "nbconvert_exporter": "python",
   "pygments_lexer": "ipython3",
   "version": "3.12.2"
  }
 },
 "nbformat": 4,
 "nbformat_minor": 2
}
