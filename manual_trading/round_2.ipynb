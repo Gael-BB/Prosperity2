{
 "cells": [
  {
   "cell_type": "code",
   "execution_count": 2,
   "metadata": {},
   "outputs": [],
   "source": [
    "import numpy as np"
   ]
  },
  {
   "cell_type": "code",
   "execution_count": 3,
   "metadata": {},
   "outputs": [
    {
     "name": "stdout",
     "output_type": "stream",
     "text": [
      "Highest combination at 0, 1, 3, 0 with value 1.0569693888\n"
     ]
    }
   ],
   "source": [
    "matrix = np.matrix([[1, 0.48, 1.52, 0.71], [2.05, 1, 3.26, 1.56], [0.64, 0.3, 1, 0.46], [1.41, 0.61, 2.08, 1]])\n",
    "highest_combination = 0\n",
    "i_high, j_high, k_high, l_high = 0, 0, 0, 0\n",
    "for i in range(4):\n",
    "    for j in range(4):\n",
    "        for k in range(4):\n",
    "            for l in range(4):\n",
    "                combination = matrix[3, i] * matrix[i, j] * matrix[j, k] * matrix[k, l] * matrix[l, 3]\n",
    "                if combination > highest_combination:\n",
    "                    highest_combination = combination\n",
    "                    i_high, j_high, k_high, l_high = i, j, k, l\n",
    "\n",
    "print(f\"Highest combination at {i_high}, {j_high}, {k_high}, {l_high} with value {highest_combination}\")"
   ]
  },
  {
   "cell_type": "code",
   "execution_count": 4,
   "metadata": {},
   "outputs": [
    {
     "name": "stdout",
     "output_type": "stream",
     "text": [
      "From Seashells to Pizza Slice for 1.41\n",
      "From Pizza Slice to Wasabi Root for 0.48\n",
      "From Wasabi Root to Seashells for 1.56\n",
      "From Seashells to Pizza Slice for 1.41\n",
      "From Pizza Slice to Seashells for 0.71\n"
     ]
    }
   ],
   "source": [
    "names = [\"Pizza Slice\", \"Wasabi Root\", \"Snowball\", \"Seashells\"]\n",
    "print(f\"From {names[3]} to {names[i_high]} for {matrix[3, i_high]}\")\n",
    "print(f\"From {names[i_high]} to {names[j_high]} for {matrix[i_high, j_high]}\")\n",
    "print(f\"From {names[j_high]} to {names[k_high]} for {matrix[j_high, k_high]}\")\n",
    "print(f\"From {names[k_high]} to {names[l_high]} for {matrix[k_high, l_high]}\")\n",
    "print(f\"From {names[l_high]} to {names[3]} for {matrix[l_high, 3]}\")"
   ]
  }
 ],
 "metadata": {
  "kernelspec": {
   "display_name": "Python 3",
   "language": "python",
   "name": "python3"
  },
  "language_info": {
   "codemirror_mode": {
    "name": "ipython",
    "version": 3
   },
   "file_extension": ".py",
   "mimetype": "text/x-python",
   "name": "python",
   "nbconvert_exporter": "python",
   "pygments_lexer": "ipython3",
   "version": "3.12.3"
  },
  "orig_nbformat": 4
 },
 "nbformat": 4,
 "nbformat_minor": 2
}
