{
 "cells": [
  {
   "cell_type": "code",
   "execution_count": 3,
   "metadata": {},
   "outputs": [],
   "source": [
    "import numpy as np"
   ]
  },
  {
   "cell_type": "markdown",
   "metadata": {},
   "source": [
    "$z=\\left(\\frac{x^{2}}{100}\\left(\\frac{1}{100}-c\\right)+cx\\right)\\left(100-x\\right)+\\left(\\frac{\\left(y^{2}-x^{2}\\right)}{100}\\left(\\frac{1}{100}-c\\right)+c\\left(y-x\\right)\\right)\\left(100-y\\right)$\n",
    "\n",
    "x - first bid.\n",
    "\n",
    "y - second bid.\n",
    "\n",
    "z - expected return.\n"
   ]
  },
  {
   "cell_type": "code",
   "execution_count": 8,
   "metadata": {},
   "outputs": [
    {
     "name": "stdout",
     "output_type": "stream",
     "text": [
      "Hello, World!\n"
     ]
    }
   ],
   "source": [
    "def z(x, y, c):\n",
    "    return ((x**2 / 100 * (1/100 - c) + c*x) * (100 - x)) + ((y**2 - x**2) / 100 * (1/100 - c) + c*(y - x)) * (100 - y)\n",
    "\n",
    "print(\"Hello, World!\")"
   ]
  },
  {
   "cell_type": "code",
   "execution_count": 18,
   "metadata": {},
   "outputs": [
    {
     "name": "stdout",
     "output_type": "stream",
     "text": [
      "Maximum value is 20.4152 at x=52 and y=78 for c=0\n"
     ]
    }
   ],
   "source": [
    "def calculate_matrix_by_c(c):\n",
    "    matrix = np.zeros((100, 100))\n",
    "    for x in range(100):\n",
    "        for y in range(100):\n",
    "            matrix[x][y] = z(x, y, c)\n",
    "    return matrix\n",
    "\n",
    "c = 0\n",
    "matrix = calculate_matrix_by_c(c)\n",
    "\n",
    "# Find the x and y for the maximum value\n",
    "x, y = np.unravel_index(matrix.argmax(), matrix.shape)\n",
    "print(f\"Maximum value is {matrix[x][y]} at x={x} and y={y} for c={c}\")"
   ]
  },
  {
   "cell_type": "code",
   "execution_count": 22,
   "metadata": {},
   "outputs": [
    {
     "name": "stdout",
     "output_type": "stream",
     "text": [
      "Maximum value is 26.29875 at x=41 and y=73\n"
     ]
    }
   ],
   "source": [
    "# Average of c from 0 to 1/100\n",
    "matrix = np.zeros((100, 100))\n",
    "iterations = 10000\n",
    "for i in np.linspace(0, 1/100, iterations):\n",
    "    matrix += calculate_matrix_by_c(i)\n",
    "\n",
    "matrix /= iterations\n",
    "x, y = np.unravel_index(matrix.argmax(), matrix.shape)\n",
    "print(f\"Maximum value is {matrix[x][y]} at x={x} and y={y}\")"
   ]
  }
 ],
 "metadata": {
  "kernelspec": {
   "display_name": "Python 3",
   "language": "python",
   "name": "python3"
  },
  "language_info": {
   "codemirror_mode": {
    "name": "ipython",
    "version": 3
   },
   "file_extension": ".py",
   "mimetype": "text/x-python",
   "name": "python",
   "nbconvert_exporter": "python",
   "pygments_lexer": "ipython3",
   "version": "3.12.2"
  }
 },
 "nbformat": 4,
 "nbformat_minor": 2
}
