{
 "cells": [
  {
   "cell_type": "code",
   "execution_count": 2,
   "metadata": {},
   "outputs": [],
   "source": [
    "import numpy as np"
   ]
  },
  {
   "cell_type": "markdown",
   "metadata": {},
   "source": [
    "$z=\\left(\\frac{x^{2}}{100}\\left(\\frac{1}{100}-c\\right)+cx\\right)\\left(100-x\\right)+\\left(\\frac{\\left(y^{2}-x^{2}\\right)}{100}\\left(\\frac{1}{100}-c\\right)+c\\left(y-x\\right)\\right)\\left(100-y\\right)$\n",
    "\n",
    "x - first bid.\n",
    "\n",
    "y - second bid.\n",
    "\n",
    "z - expected return.\n"
   ]
  },
  {
   "cell_type": "code",
   "execution_count": 3,
   "metadata": {},
   "outputs": [
    {
     "name": "stdout",
     "output_type": "stream",
     "text": [
      "Hello, World!\n"
     ]
    }
   ],
   "source": [
    "def z(x, y, c):\n",
    "    return ((x**2 / 100 * (1/100 - c) + c*x) * (100 - x)) + ((y**2 - x**2) / 100 * (1/100 - c) + c*(y - x)) * (100 - y)\n",
    "\n",
    "print(\"Hello, World!\")"
   ]
  },
  {
   "cell_type": "code",
   "execution_count": 4,
   "metadata": {},
   "outputs": [
    {
     "name": "stdout",
     "output_type": "stream",
     "text": [
      "Maximum value is 20.4152 at x=52 and y=78 for c=0\n"
     ]
    }
   ],
   "source": [
    "def calculate_matrix_by_c(c):\n",
    "    matrix = np.zeros((100, 100))\n",
    "    for x in range(100):\n",
    "        for y in range(100):\n",
    "            matrix[x][y] = z(x, y, c)\n",
    "    return matrix\n",
    "\n",
    "c = 0\n",
    "matrix = calculate_matrix_by_c(c)\n",
    "\n",
    "# Find the x and y for the maximum value\n",
    "x, y = np.unravel_index(matrix.argmax(), matrix.shape)\n",
    "print(f\"Maximum value is {matrix[x][y]} at x={x} and y={y} for c={c}\")"
   ]
  },
  {
   "cell_type": "code",
   "execution_count": 22,
   "metadata": {},
   "outputs": [
    {
     "name": "stdout",
     "output_type": "stream",
     "text": [
      "Maximum value is 26.29875 at x=41 and y=73\n"
     ]
    }
   ],
   "source": [
    "# Average of c from 0 to 1/100\n",
    "matrix = np.zeros((100, 100))\n",
    "iterations = 10000\n",
    "for i in np.linspace(0, 1/100, iterations):\n",
    "    matrix += calculate_matrix_by_c(i)\n",
    "\n",
    "matrix /= iterations\n",
    "x, y = np.unravel_index(matrix.argmax(), matrix.shape)\n",
    "print(f\"Maximum value is {matrix[x][y]} at x={x} and y={y}\")"
   ]
  },
  {
   "cell_type": "code",
   "execution_count": 14,
   "metadata": {},
   "outputs": [
    {
     "name": "stdout",
     "output_type": "stream",
     "text": [
      "Percentage done: 0%\n",
      "Percentage done: 1%\n",
      "Percentage done: 2%\n",
      "Percentage done: 3%\n",
      "Percentage done: 4%\n",
      "Percentage done: 5%\n",
      "Percentage done: 6%\n",
      "Percentage done: 7%\n",
      "Percentage done: 8%\n",
      "Percentage done: 9%\n",
      "Percentage done: 10%\n",
      "Percentage done: 11%\n",
      "Percentage done: 12%\n",
      "Percentage done: 13%\n",
      "Percentage done: 14%\n",
      "Percentage done: 15%\n",
      "Percentage done: 16%\n",
      "Percentage done: 17%\n",
      "Percentage done: 18%\n",
      "Percentage done: 19%\n",
      "Percentage done: 20%\n",
      "Percentage done: 21%\n",
      "Percentage done: 22%\n",
      "Percentage done: 23%\n",
      "Percentage done: 24%\n",
      "Percentage done: 25%\n",
      "Percentage done: 26%\n",
      "Percentage done: 27%\n",
      "Percentage done: 28%\n"
     ]
    },
    {
     "ename": "KeyboardInterrupt",
     "evalue": "",
     "output_type": "error",
     "traceback": [
      "\u001b[1;31m---------------------------------------------------------------------------\u001b[0m",
      "\u001b[1;31mKeyboardInterrupt\u001b[0m                         Traceback (most recent call last)",
      "Cell \u001b[1;32mIn[14], line 10\u001b[0m\n\u001b[0;32m      8\u001b[0m         \u001b[38;5;28;01mif\u001b[39;00m reserve_price \u001b[38;5;241m<\u001b[39m x:\n\u001b[0;32m      9\u001b[0m             matrix[x][y] \u001b[38;5;241m+\u001b[39m\u001b[38;5;241m=\u001b[39m \u001b[38;5;241m100\u001b[39m \u001b[38;5;241m-\u001b[39m x \n\u001b[1;32m---> 10\u001b[0m         \u001b[38;5;28;01melif\u001b[39;00m reserve_price \u001b[38;5;241m<\u001b[39m y:\n\u001b[0;32m     11\u001b[0m             matrix[x][y] \u001b[38;5;241m+\u001b[39m\u001b[38;5;241m=\u001b[39m \u001b[38;5;241m100\u001b[39m \u001b[38;5;241m-\u001b[39m y\n\u001b[0;32m     12\u001b[0m \u001b[38;5;28mprint\u001b[39m(\u001b[38;5;124mf\u001b[39m\u001b[38;5;124m\"\u001b[39m\u001b[38;5;124mPercentage done: \u001b[39m\u001b[38;5;132;01m{\u001b[39;00mx\u001b[38;5;132;01m}\u001b[39;00m\u001b[38;5;124m%\u001b[39m\u001b[38;5;124m\"\u001b[39m)\n",
      "\u001b[1;31mKeyboardInterrupt\u001b[0m: "
     ]
    }
   ],
   "source": [
    "# Check Answer by using simulation\n",
    "iteration_per_point = 10000\n",
    "matrix = np.zeros((100, 100))\n",
    "for x in range(100):\n",
    "    for y in range(100):\n",
    "        for i in range(iteration_per_point):\n",
    "            reserve_price = 100 * np.sqrt(np.random.uniform(0, 1))\n",
    "            if reserve_price < x:\n",
    "                matrix[x][y] += 100 - x \n",
    "            elif reserve_price < y:\n",
    "                matrix[x][y] += 100 - y\n",
    "    print(f\"Percentage done: {x}%\")\n",
    "matrix /= iteration_per_point\n",
    "x, y = np.unravel_index(matrix.argmax(), matrix.shape)\n",
    "print(f\"Maximum value is {matrix[x][y]} at x={x} and y={y}\")"
   ]
  }
 ],
 "metadata": {
  "kernelspec": {
   "display_name": "Python 3",
   "language": "python",
   "name": "python3"
  },
  "language_info": {
   "codemirror_mode": {
    "name": "ipython",
    "version": 3
   },
   "file_extension": ".py",
   "mimetype": "text/x-python",
   "name": "python",
   "nbconvert_exporter": "python",
   "pygments_lexer": "ipython3",
   "version": "3.12.2"
  }
 },
 "nbformat": 4,
 "nbformat_minor": 2
}
