{
 "cells": [
  {
   "cell_type": "code",
   "execution_count": 1,
   "metadata": {},
   "outputs": [],
   "source": [
    "import numpy as np"
   ]
  },
  {
   "cell_type": "code",
   "execution_count": 2,
   "metadata": {},
   "outputs": [],
   "source": [
    "# generate a matrix of profits, each row covers all the percentages for one square on the map\n",
    "# first row corresponds to top left square, last row is bottom right square\n",
    "\n",
    "multipliers = np.matrix([[24,70,41,21,60],[47,82,87,80,35],[73,89,100,90,17],[77,83,85,79,55],[12,27,52,15,30]])\n",
    "hunters = np.matrix([[2,4,3,2,4],[3,5,5,5,3],[4,5,8,7,2],[5,5,5,5,4],[2,3,4,2,3]])\n",
    "\n",
    "profits = np.zeros((25,100))\n",
    "\n",
    "for p in range(1,101):\n",
    "    profit = (multipliers * 7500) / (hunters + p)\n",
    "    for i in range(25):\n",
    "        profits[i][p-1] = profit.flat[i]"
   ]
  }
 ],
 "metadata": {
  "kernelspec": {
   "display_name": "Python 3",
   "language": "python",
   "name": "python3"
  },
  "language_info": {
   "codemirror_mode": {
    "name": "ipython",
    "version": 3
   },
   "file_extension": ".py",
   "mimetype": "text/x-python",
   "name": "python",
   "nbconvert_exporter": "python",
   "pygments_lexer": "ipython3",
   "version": "3.10.7"
  }
 },
 "nbformat": 4,
 "nbformat_minor": 2
}
