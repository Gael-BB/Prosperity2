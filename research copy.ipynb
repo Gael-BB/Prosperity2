{
 "cells": [
  {
   "cell_type": "code",
   "execution_count": 2,
   "metadata": {},
   "outputs": [],
   "source": [
    "import pandas as pd\n",
    "import numpy as np"
   ]
  },
  {
   "cell_type": "code",
   "execution_count": 3,
   "metadata": {},
   "outputs": [],
   "source": [
    "data1 = pd.read_csv('data/round1/prices_round_1_day_-2.csv', header = 0, sep=\";\")\n",
    "data2 = pd.read_csv('data/round1/prices_round_1_day_-1.csv', header = 0, sep=\";\")\n",
    "data3 = pd.read_csv('data/round1/prices_round_1_day_0.csv', header = 0, sep=\";\")"
   ]
  },
  {
   "cell_type": "code",
   "execution_count": 5,
   "metadata": {},
   "outputs": [
    {
     "name": "stderr",
     "output_type": "stream",
     "text": [
      "C:\\Users\\Gael Work\\AppData\\Local\\Temp\\ipykernel_2844\\3184919557.py:8: SettingWithCopyWarning: \n",
      "A value is trying to be set on a copy of a slice from a DataFrame.\n",
      "Try using .loc[row_indexer,col_indexer] = value instead\n",
      "\n",
      "See the caveats in the documentation: https://pandas.pydata.org/pandas-docs/stable/user_guide/indexing.html#returning-a-view-versus-a-copy\n",
      "  df_starfruit['total_bid_volume'] = df_starfruit[['bid_volume_1', 'bid_volume_2', 'bid_volume_3']].sum(axis=1, skipna=True)\n",
      "C:\\Users\\Gael Work\\AppData\\Local\\Temp\\ipykernel_2844\\3184919557.py:9: SettingWithCopyWarning: \n",
      "A value is trying to be set on a copy of a slice from a DataFrame.\n",
      "Try using .loc[row_indexer,col_indexer] = value instead\n",
      "\n",
      "See the caveats in the documentation: https://pandas.pydata.org/pandas-docs/stable/user_guide/indexing.html#returning-a-view-versus-a-copy\n",
      "  df_starfruit['total_ask_volume'] = df_starfruit[['ask_volume_1', 'ask_volume_2', 'ask_volume_3']].sum(axis=1, skipna=True)\n",
      "C:\\Users\\Gael Work\\AppData\\Local\\Temp\\ipykernel_2844\\3184919557.py:17: SettingWithCopyWarning: \n",
      "A value is trying to be set on a copy of a slice from a DataFrame.\n",
      "Try using .loc[row_indexer,col_indexer] = value instead\n",
      "\n",
      "See the caveats in the documentation: https://pandas.pydata.org/pandas-docs/stable/user_guide/indexing.html#returning-a-view-versus-a-copy\n",
      "  final_df[['bid_price_1', 'ask_price_1', 'mid_price']] = final_df[['bid_price_1', 'ask_price_1', 'mid_price']].pct_change()\n"
     ]
    },
    {
     "data": {
      "text/html": [
       "<div>\n",
       "<style scoped>\n",
       "    .dataframe tbody tr th:only-of-type {\n",
       "        vertical-align: middle;\n",
       "    }\n",
       "\n",
       "    .dataframe tbody tr th {\n",
       "        vertical-align: top;\n",
       "    }\n",
       "\n",
       "    .dataframe thead th {\n",
       "        text-align: right;\n",
       "    }\n",
       "</style>\n",
       "<table border=\"1\" class=\"dataframe\">\n",
       "  <thead>\n",
       "    <tr style=\"text-align: right;\">\n",
       "      <th></th>\n",
       "      <th>bid_price_1</th>\n",
       "      <th>ask_price_1</th>\n",
       "      <th>total_bid_volume</th>\n",
       "      <th>total_ask_volume</th>\n",
       "      <th>mid_price</th>\n",
       "    </tr>\n",
       "  </thead>\n",
       "  <tbody>\n",
       "    <tr>\n",
       "      <th>1</th>\n",
       "      <td>NaN</td>\n",
       "      <td>NaN</td>\n",
       "      <td>26.0</td>\n",
       "      <td>26.0</td>\n",
       "      <td>NaN</td>\n",
       "    </tr>\n",
       "    <tr>\n",
       "      <th>3</th>\n",
       "      <td>0.0006</td>\n",
       "      <td>0.0002</td>\n",
       "      <td>31.0</td>\n",
       "      <td>20.0</td>\n",
       "      <td>0.0004</td>\n",
       "    </tr>\n",
       "    <tr>\n",
       "      <th>4</th>\n",
       "      <td>-0.0006</td>\n",
       "      <td>-0.0002</td>\n",
       "      <td>31.0</td>\n",
       "      <td>31.0</td>\n",
       "      <td>-0.0004</td>\n",
       "    </tr>\n",
       "    <tr>\n",
       "      <th>7</th>\n",
       "      <td>-0.0002</td>\n",
       "      <td>0.0000</td>\n",
       "      <td>27.0</td>\n",
       "      <td>27.0</td>\n",
       "      <td>-0.0001</td>\n",
       "    </tr>\n",
       "    <tr>\n",
       "      <th>9</th>\n",
       "      <td>-0.0002</td>\n",
       "      <td>-0.0002</td>\n",
       "      <td>20.0</td>\n",
       "      <td>20.0</td>\n",
       "      <td>-0.0002</td>\n",
       "    </tr>\n",
       "  </tbody>\n",
       "</table>\n",
       "</div>"
      ],
      "text/plain": [
       "   bid_price_1  ask_price_1  total_bid_volume  total_ask_volume  mid_price\n",
       "1          NaN          NaN              26.0              26.0        NaN\n",
       "3       0.0006       0.0002              31.0              20.0     0.0004\n",
       "4      -0.0006      -0.0002              31.0              31.0    -0.0004\n",
       "7      -0.0002       0.0000              27.0              27.0    -0.0001\n",
       "9      -0.0002      -0.0002              20.0              20.0    -0.0002"
      ]
     },
     "execution_count": 5,
     "metadata": {},
     "output_type": "execute_result"
    }
   ],
   "source": [
    "# Load the file, noting the separator and header\n",
    "df = data1\n",
    "\n",
    "# Filter rows for 'STARFRUIT' product only\n",
    "df_starfruit = df[df['product'] == 'STARFRUIT']\n",
    "\n",
    "# Calculate total volumes by summing volumes 1 to 3 for both bid and ask, ignoring NA values\n",
    "df_starfruit['total_bid_volume'] = df_starfruit[['bid_volume_1', 'bid_volume_2', 'bid_volume_3']].sum(axis=1, skipna=True)\n",
    "df_starfruit['total_ask_volume'] = df_starfruit[['ask_volume_1', 'ask_volume_2', 'ask_volume_3']].sum(axis=1, skipna=True)\n",
    "\n",
    "# Keep only the required columns for further analysis\n",
    "final_df = df_starfruit[['bid_price_1', 'ask_price_1', 'total_bid_volume', 'total_ask_volume', 'mid_price']]\n",
    "\n",
    "# Convert prices and volumes to percentage changes from the previous row\n",
    "# selected_columns_percentage_changes = selected_columns.pct_change()\n",
    "\n",
    "final_df[['bid_price_1', 'ask_price_1', 'mid_price']] = final_df[['bid_price_1', 'ask_price_1', 'mid_price']].pct_change()\n",
    "\n",
    "final_df.head()\n"
   ]
  },
  {
   "cell_type": "code",
   "execution_count": 5,
   "metadata": {},
   "outputs": [
    {
     "name": "stdout",
     "output_type": "stream",
     "text": [
      "<class 'str'>\n",
      "{1: 2, 3: 4}\n",
      "{'1': 2, '3': 4}\n"
     ]
    }
   ],
   "source": [
    "import jsonpickle\n",
    "traderData = {1:2,3:4}\n",
    "transfer = jsonpickle.encode(traderData)\n",
    "print(type(transfer))\n",
    "traderData2 = jsonpickle.decode(transfer)\n",
    "print(traderData)\n",
    "print(traderData2)"
   ]
  }
 ],
 "metadata": {
  "kernelspec": {
   "display_name": "Python 3",
   "language": "python",
   "name": "python3"
  },
  "language_info": {
   "codemirror_mode": {
    "name": "ipython",
    "version": 3
   },
   "file_extension": ".py",
   "mimetype": "text/x-python",
   "name": "python",
   "nbconvert_exporter": "python",
   "pygments_lexer": "ipython3",
   "version": "3.12.2"
  }
 },
 "nbformat": 4,
 "nbformat_minor": 2
}
