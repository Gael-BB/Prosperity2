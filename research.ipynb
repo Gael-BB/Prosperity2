{
 "cells": [
  {
   "cell_type": "code",
   "execution_count": 10,
   "metadata": {},
   "outputs": [],
   "source": [
    "import pandas as pd\n",
    "import numpy as np"
   ]
  },
  {
   "cell_type": "code",
   "execution_count": 11,
   "metadata": {},
   "outputs": [],
   "source": [
    "data1 = pd.read_csv('data/round1/prices_round_1_day_-2.csv', header = 0, sep=\";\")\n",
    "data2 = pd.read_csv('data/round1/prices_round_1_day_-1.csv', header = 0, sep=\";\")\n",
    "data3 = pd.read_csv('data/round1/prices_round_1_day_0.csv', header = 0, sep=\";\")"
   ]
  },
  {
   "cell_type": "code",
   "execution_count": 25,
   "metadata": {},
   "outputs": [
    {
     "name": "stdout",
     "output_type": "stream",
     "text": [
      "   day  timestamp    product  bid_price_1  bid_volume_1  bid_price_2  \\\n",
      "0   -2          0  AMETHYSTS         9996             1       9995.0   \n",
      "1   -2          0  STARFRUIT         4997            26          NaN   \n",
      "2   -2        100  AMETHYSTS        10000             5       9995.0   \n",
      "3   -2        100  STARFRUIT         5000             5       4998.0   \n",
      "4   -2        200  STARFRUIT         4997             1       4996.0   \n",
      "\n",
      "   bid_volume_2  bid_price_3  bid_volume_3  ask_price_1  ask_volume_1  \\\n",
      "0          25.0          NaN           NaN        10004             1   \n",
      "1           NaN          NaN           NaN         5003            26   \n",
      "2          20.0          NaN           NaN        10005            20   \n",
      "3           6.0       4997.0          20.0         5004            20   \n",
      "4          30.0          NaN           NaN         5003            31   \n",
      "\n",
      "   ask_price_2  ask_volume_2  ask_price_3  ask_volume_3  mid_price  \\\n",
      "0      10005.0          25.0          NaN           NaN    10000.0   \n",
      "1          NaN           NaN          NaN           NaN     5000.0   \n",
      "2          NaN           NaN          NaN           NaN    10002.5   \n",
      "3          NaN           NaN          NaN           NaN     5002.0   \n",
      "4          NaN           NaN          NaN           NaN     5000.0   \n",
      "\n",
      "   profit_and_loss  \n",
      "0              0.0  \n",
      "1              0.0  \n",
      "2              0.0  \n",
      "3              0.0  \n",
      "4              0.0  \n",
      "       day  timestamp    product  bid_price_1  bid_volume_1  bid_price_2  \\\n",
      "19995    0     999700  STARFRUIT         5053             1       5048.0   \n",
      "19996    0     999800  STARFRUIT         5047            27          NaN   \n",
      "19997    0     999800  AMETHYSTS         9995            27          NaN   \n",
      "19998    0     999900  STARFRUIT         5048             2       5047.0   \n",
      "19999    0     999900  AMETHYSTS         9996             2       9995.0   \n",
      "\n",
      "       bid_volume_2  bid_price_3  bid_volume_3  ask_price_1  ask_volume_1  \\\n",
      "19995          26.0          NaN           NaN         5054             2   \n",
      "19996           NaN          NaN           NaN         5052             1   \n",
      "19997           NaN          NaN           NaN        10005            27   \n",
      "19998          21.0          NaN           NaN         5054            23   \n",
      "19999          21.0          NaN           NaN        10004             2   \n",
      "\n",
      "       ask_price_2  ask_volume_2  ask_price_3  ask_volume_3  mid_price  \\\n",
      "19995       5055.0          24.0          NaN           NaN     5053.5   \n",
      "19996       5054.0          27.0          NaN           NaN     5049.5   \n",
      "19997          NaN           NaN          NaN           NaN    10000.0   \n",
      "19998          NaN           NaN          NaN           NaN     5051.0   \n",
      "19999      10005.0          21.0          NaN           NaN    10000.0   \n",
      "\n",
      "       profit_and_loss  \n",
      "19995              0.0  \n",
      "19996              0.0  \n",
      "19997              0.0  \n",
      "19998              0.0  \n",
      "19999              0.0  \n",
      "1    5000.0\n",
      "3    5002.0\n",
      "4    5000.0\n",
      "7    4999.5\n",
      "9    4998.5\n",
      "Name: mid_price, dtype: float64\n",
      "1    NaN\n",
      "3    2.0\n",
      "4   -2.0\n",
      "7   -0.5\n",
      "9   -1.0\n",
      "Name: mid_price, dtype: float64\n",
      "[[ 1.  -1.   3.5 -2.5  0.5]\n",
      " [ 1.   2.5  0.  -3.5  0.5]\n",
      " [ 1.   0.5  2.  -3.5  1.5]\n",
      " [ 1.   0.  -0.5 -1.   4. ]\n",
      " [ 1.  -4.   3.5 -2.   0. ]]\n",
      "(7499, 5)\n"
     ]
    }
   ],
   "source": [
    "print(data1.head())\n",
    "print(data3.tail())\n",
    "\n",
    "#creating midprice differences matrix\n",
    "\n",
    "data = pd.concat([data1,data2, data3])\n",
    "\n",
    "midprices_column = data.loc[:, \"mid_price\"]\n",
    "starfruit_midprices = midprices_column[data[\"product\"] == \"STARFRUIT\"]\n",
    "print(starfruit_midprices.head())\n",
    "#print(starfruit_midprices.tail())\n",
    "\n",
    "delta_starfruit_midprices = starfruit_midprices.diff()\n",
    "print(delta_starfruit_midprices.head())\n",
    "\n",
    "delta_starfruit_midprices_np = delta_starfruit_midprices.to_numpy()\n",
    "\n",
    "delta_matrix = delta_starfruit_midprices_np.reshape(-1,4)\n",
    "delta_matrix = delta_matrix[1:] #remove first row as it contains NaN\n",
    "X = delta_matrix\n",
    "\n",
    "\n",
    "\"\"\"ones_column = np.ones((delta_matrix.shape[0],1))\n",
    "X = np.hstack((ones_column, delta_matrix))\n",
    "print(X[:5, :])\n",
    "print(X.shape)\"\"\" #don't need the ones column as beta constant term should be zero\n",
    "\n",
    "\n"
   ]
  },
  {
   "cell_type": "code",
   "execution_count": 21,
   "metadata": {},
   "outputs": [
    {
     "name": "stdout",
     "output_type": "stream",
     "text": [
      "[[1. 1. 2. 3.]\n",
      " [1. 4. 5. 6.]\n",
      " [1. 7. 8. 9.]]\n"
     ]
    }
   ],
   "source": [
    "# Assuming 'array' is your NumPy array\n",
    "# For demonstration, let's create a sample array\n",
    "array = np.array([[1, 2, 3],\n",
    "                  [4, 5, 6],\n",
    "                  [7, 8, 9]])\n",
    "\n",
    "# Create a column vector of ones\n",
    "ones_column = np.ones((array.shape[0], 1))\n",
    "\n",
    "# Add the column of ones to the left of the original array\n",
    "array_with_ones = np.hstack((ones_column, array))\n",
    "\n",
    "print(array_with_ones)"
   ]
  },
  {
   "cell_type": "code",
   "execution_count": 15,
   "metadata": {},
   "outputs": [
    {
     "name": "stdout",
     "output_type": "stream",
     "text": [
      "[[ 0  1  2  3]\n",
      " [ 4  5  6  7]\n",
      " [ 8  9 10 11]\n",
      " [12 13 14 15]\n",
      " [16 17 18 19]]\n"
     ]
    }
   ],
   "source": [
    "#doing linear regression on the matrix\n",
    "\n",
    "def LinearRegression(data):\n",
    "\n",
    "    midprices_column = data.loc[:, \"mid_price\"]\n",
    "    starfruit_midprices = midprices_column[data[\"product\"] == \"STARFRUIT\"]\n",
    "\n",
    "    delta_starfruit_midprices = starfruit_midprices.diff()\n",
    "\n",
    "    delta_starfruit_midprices_np = delta_starfruit_midprices.to_numpy()\n",
    "\n",
    "    delta_matrix = delta_starfruit_midprices_np.reshape(-1,4)\n",
    "    delta_matrix = delta_matrix[1:] #remove first row as it contains NaN\n",
    "    X = delta_matrix\n",
    "\n",
    "    y = #delta midprice at next timestamp\n",
    "\n",
    "    beta = np.linalg.lstsq(X, y,rcond=None)[0]\n",
    "\n",
    "    fit = X.dot(beta)\n",
    "  \n",
    "    residuals = data_matrix[:,1] - fit\n",
    "\n",
    "    return [beta, fit, residuals]"
   ]
  }
 ],
 "metadata": {
  "kernelspec": {
   "display_name": "Python 3",
   "language": "python",
   "name": "python3"
  },
  "language_info": {
   "codemirror_mode": {
    "name": "ipython",
    "version": 3
   },
   "file_extension": ".py",
   "mimetype": "text/x-python",
   "name": "python",
   "nbconvert_exporter": "python",
   "pygments_lexer": "ipython3",
   "version": "3.10.8"
  }
 },
 "nbformat": 4,
 "nbformat_minor": 2
}
