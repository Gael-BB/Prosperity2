{
 "cells": [
  {
   "cell_type": "code",
   "execution_count": 40,
   "metadata": {},
   "outputs": [],
   "source": [
    "import pandas as pd\n",
    "import numpy as np"
   ]
  },
  {
   "cell_type": "code",
   "execution_count": 41,
   "metadata": {},
   "outputs": [],
   "source": [
    "data1 = pd.read_csv('data/round1/prices_round_1_day_-2.csv', header = 0, sep=\";\")\n",
    "data2 = pd.read_csv('data/round1/prices_round_1_day_-1.csv', header = 0, sep=\";\")\n",
    "data3 = pd.read_csv('data/round1/prices_round_1_day_0.csv', header = 0, sep=\";\")"
   ]
  },
  {
   "cell_type": "code",
   "execution_count": 58,
   "metadata": {},
   "outputs": [
    {
     "name": "stdout",
     "output_type": "stream",
     "text": [
      "1.222640754691823\n",
      "[[ 0.5  0.   0.   0. ]\n",
      " [-1.   1.   0.5 -0.5]\n",
      " [ 1.5 -1.5  1.5  1. ]\n",
      " [ 2.5 -3.   4.  -3. ]\n",
      " [ 2.  -2.   0.   0. ]\n",
      " [ 0.5  0.5  0.  -1. ]\n",
      " [ 1.  -0.5  0.5 -0.5]\n",
      " [ 0.  -0.5  1.5 -2.5]\n",
      " [-0.5 -1.5  3.  -2.5]\n",
      " [ 0.5 -1.   1.  -2. ]\n",
      " [ 2.   0.5  1.  -1.5]\n",
      " [ 0.5  2.5 -2.5  0. ]\n",
      " [ 1.   0.   0.  -2.5]\n",
      " [ 3.5  0.  -3.5  2. ]\n",
      " [ 1.  -0.5  0.   1. ]\n",
      " [ 2.   0.  -2.5  0.5]\n",
      " [-1.5  1.   0.  -1. ]\n",
      " [ 1.5 -0.5  0.5  0. ]\n",
      " [-0.5 -1.   2.5 -0.5]\n",
      " [-3.  -0.5 -1.5  0. ]\n",
      " [ 0.  -1.   1.   0.5]\n",
      " [-2.5  3.   0.   0. ]\n",
      " [ 0.   0.5  0.5 -1. ]\n",
      " [ 1.  -0.5  0.  -1. ]\n",
      " [-0.5  0.5 -0.5  1. ]]\n",
      "[-2.5  0.   1.  -0.5 -1.5]\n",
      "(7498,)\n",
      "(7498, 4)\n"
     ]
    },
    {
     "data": {
      "text/plain": [
       "'ones_column = np.ones((delta_matrix.shape[0],1))\\nX = np.hstack((ones_column, delta_matrix))\\nprint(X[:5, :])\\nprint(X.shape)'"
      ]
     },
     "execution_count": 58,
     "metadata": {},
     "output_type": "execute_result"
    }
   ],
   "source": [
    "#print(data1.head())\n",
    "#print(data3.tail())\n",
    "\n",
    "#creating midprice differences matrix\n",
    "\n",
    "data = pd.concat([data1,data2, data3])\n",
    "\n",
    "midprices_column = data.loc[:, \"mid_price\"]\n",
    "starfruit_midprices = midprices_column[data[\"product\"] == \"STARFRUIT\"]\n",
    "#print(starfruit_midprices.head())\n",
    "#print(starfruit_midprices.tail())\n",
    "\n",
    "delta_starfruit_midprices = starfruit_midprices.diff()\n",
    "#print(delta_starfruit_midprices.head())\n",
    "\n",
    "delta_starfruit_midprices_np = delta_starfruit_midprices.to_numpy()\n",
    "#print(np.mean(np.abs(delta_starfruit_midprices_np[1:])))\n",
    "\n",
    "delta_matrix = delta_starfruit_midprices_np.reshape(-1,4)\n",
    "delta_matrix = delta_matrix[1:] #remove first row as it contains NaN\n",
    "X = delta_matrix[:-1]\n",
    "#print(X[-25:,:])\n",
    "\n",
    "y1 = delta_matrix[:,0]\n",
    "y = y1[1:]\n",
    "#print(y[-5:])\n",
    "\n",
    "#print(y.shape)\n",
    "#print(X.shape)\n",
    "\n",
    "\n",
    "\"\"\"ones_column = np.ones((delta_matrix.shape[0],1))\n",
    "X = np.hstack((ones_column, delta_matrix))\n",
    "print(X[:5, :])\n",
    "print(X.shape)\"\"\" #don't need the ones column as beta constant term should be zero\n",
    "\n",
    "\n"
   ]
  },
  {
   "cell_type": "code",
   "execution_count": null,
   "metadata": {},
   "outputs": [],
   "source": []
  },
  {
   "cell_type": "code",
   "execution_count": 80,
   "metadata": {},
   "outputs": [
    {
     "name": "stdout",
     "output_type": "stream",
     "text": [
      "[-0.03625716 -0.03958652 -0.06110437 -0.07998108 -0.11059139 -0.11079702\n",
      " -0.10927272 -0.1455748  -0.21055018 -0.33562075 -0.50009132 -0.71531163]\n",
      "1.8602514703518869\n",
      "[-0.07658372 -0.18116872 -0.33101596 -0.50232555 -0.72336049]\n",
      "1.8628090110890168\n"
     ]
    }
   ],
   "source": [
    "#doing linear regression on the matrix\n",
    "\n",
    "def LinearRegression(data,k):\n",
    "\n",
    "    midprices_column = data.loc[:, \"mid_price\"]\n",
    "    starfruit_midprices = midprices_column[data[\"product\"] == \"STARFRUIT\"]\n",
    "\n",
    "    delta_starfruit_midprices = starfruit_midprices.diff()\n",
    "\n",
    "    delta_starfruit_midprices_np = delta_starfruit_midprices.to_numpy()\n",
    "\n",
    "    delta_matrix = delta_starfruit_midprices_np.reshape(-1,k)\n",
    "    delta_matrix = delta_matrix[1:] #remove first row as it contains NaN\n",
    "    X = delta_matrix[:-1]\n",
    "\n",
    "    ones_column = np.ones((X.shape[0], 1))\n",
    "    X = np.hstack((ones_column, X))\n",
    "\n",
    "    \n",
    "    y1 = delta_matrix[:,0] #price at next timestep\n",
    "    y = y1[1:]\n",
    "\n",
    "    beta = np.linalg.lstsq(X, y,rcond=None)[0]\n",
    "\n",
    "    fit = X.dot(beta)\n",
    "  \n",
    "    residuals = y - fit\n",
    "\n",
    "    SSE = np.linalg.norm(y - fit)**2\n",
    "    MSE = SSE/(np.size(y))\n",
    "\n",
    "    return [beta, fit, residuals, MSE]\n",
    "\n",
    "print(LinearRegression(data,12)[0])\n",
    "print(LinearRegression(data,12)[3])\n",
    "\n",
    "print(LinearRegression(data,5)[0])\n",
    "print(LinearRegression(data,5)[3])\n",
    "\n"
   ]
  }
 ],
 "metadata": {
  "kernelspec": {
   "display_name": "Python 3",
   "language": "python",
   "name": "python3"
  },
  "language_info": {
   "codemirror_mode": {
    "name": "ipython",
    "version": 3
   },
   "file_extension": ".py",
   "mimetype": "text/x-python",
   "name": "python",
   "nbconvert_exporter": "python",
   "pygments_lexer": "ipython3",
   "version": "3.10.8"
  }
 },
 "nbformat": 4,
 "nbformat_minor": 2
}
