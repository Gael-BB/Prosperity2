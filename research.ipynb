{
 "cells": [
  {
   "cell_type": "code",
   "execution_count": 1,
   "metadata": {},
   "outputs": [],
   "source": [
    "import pandas as pd\n",
    "import numpy as np"
   ]
  },
  {
   "cell_type": "code",
   "execution_count": 3,
   "metadata": {},
   "outputs": [],
   "source": [
    "data1 = pd.read_csv('data/round1/prices_round_1_day_-2.csv', header = 0, sep=\";\")\n",
    "data2 = pd.read_csv('data/round1/prices_round_1_day_-1.csv', header = 0, sep=\";\")\n",
    "data3 = pd.read_csv('data/round1/prices_round_1_day_0.csv', header = 0, sep=\";\")"
   ]
  },
  {
   "cell_type": "code",
   "execution_count": 4,
   "metadata": {},
   "outputs": [
    {
     "name": "stdout",
     "output_type": "stream",
     "text": [
      "   day  timestamp    product  bid_price_1  bid_volume_1  bid_price_2  \\\n",
      "0   -2          0  AMETHYSTS         9996             1       9995.0   \n",
      "1   -2          0  STARFRUIT         4997            26          NaN   \n",
      "2   -2        100  AMETHYSTS        10000             5       9995.0   \n",
      "3   -2        100  STARFRUIT         5000             5       4998.0   \n",
      "4   -2        200  STARFRUIT         4997             1       4996.0   \n",
      "\n",
      "   bid_volume_2  bid_price_3  bid_volume_3  ask_price_1  ask_volume_1  \\\n",
      "0          25.0          NaN           NaN        10004             1   \n",
      "1           NaN          NaN           NaN         5003            26   \n",
      "2          20.0          NaN           NaN        10005            20   \n",
      "3           6.0       4997.0          20.0         5004            20   \n",
      "4          30.0          NaN           NaN         5003            31   \n",
      "\n",
      "   ask_price_2  ask_volume_2  ask_price_3  ask_volume_3  mid_price  \\\n",
      "0      10005.0          25.0          NaN           NaN    10000.0   \n",
      "1          NaN           NaN          NaN           NaN     5000.0   \n",
      "2          NaN           NaN          NaN           NaN    10002.5   \n",
      "3          NaN           NaN          NaN           NaN     5002.0   \n",
      "4          NaN           NaN          NaN           NaN     5000.0   \n",
      "\n",
      "   profit_and_loss  \n",
      "0              0.0  \n",
      "1              0.0  \n",
      "2              0.0  \n",
      "3              0.0  \n",
      "4              0.0  \n"
     ]
    }
   ],
   "source": [
    "print(data1.head())"
   ]
  }
 ],
 "metadata": {
  "kernelspec": {
   "display_name": "Python 3",
   "language": "python",
   "name": "python3"
  },
  "language_info": {
   "codemirror_mode": {
    "name": "ipython",
    "version": 3
   },
   "file_extension": ".py",
   "mimetype": "text/x-python",
   "name": "python",
   "nbconvert_exporter": "python",
   "pygments_lexer": "ipython3",
   "version": "3.12.2"
  }
 },
 "nbformat": 4,
 "nbformat_minor": 2
}
